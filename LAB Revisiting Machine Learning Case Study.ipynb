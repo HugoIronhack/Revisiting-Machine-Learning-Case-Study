{
 "cells": [
  {
   "cell_type": "code",
   "execution_count": 2,
   "id": "fcf4ca59",
   "metadata": {},
   "outputs": [
    {
     "name": "stderr",
     "output_type": "stream",
     "text": [
      "/var/folders/2n/45mrq41x2yq_l53c6v6v5qnc0000gn/T/ipykernel_56654/3827485318.py:2: DtypeWarning: Columns (8) have mixed types. Specify dtype option on import or set low_memory=False.\n",
      "  df = pd.read_csv('learningSet.csv')\n"
     ]
    }
   ],
   "source": [
    "import pandas as pd\n",
    "df = pd.read_csv('learningSet.csv')"
   ]
  },
  {
   "cell_type": "markdown",
   "id": "323e4472",
   "metadata": {},
   "source": [
    "# Check for null values in all the columns"
   ]
  },
  {
   "cell_type": "code",
   "execution_count": 3,
   "id": "4cb3e758",
   "metadata": {
    "scrolled": true
   },
   "outputs": [
    {
     "name": "stdout",
     "output_type": "stream",
     "text": [
      "ODATEDW       0\n",
      "OSOURCE       0\n",
      "TCODE         0\n",
      "STATE         0\n",
      "ZIP           0\n",
      "           ... \n",
      "MDMAUD_R      0\n",
      "MDMAUD_F      0\n",
      "MDMAUD_A      0\n",
      "CLUSTER2    132\n",
      "GEOCODE2    132\n",
      "Length: 481, dtype: int64\n"
     ]
    }
   ],
   "source": [
    "null_counts = df.isnull().sum()\n",
    "\n",
    "# Print the null value counts\n",
    "print(null_counts)"
   ]
  },
  {
   "cell_type": "markdown",
   "id": "e833056a",
   "metadata": {},
   "source": [
    "## Exclude the following variables by looking at the definitions. Create a new empty list called drop_list. We will append this list and then drop all the columns in this list later:\n",
    "\n",
    "## OSOURCE - symbol definitions not provided, too many categories\n",
    "## ZIP CODE - we are including state already"
   ]
  },
  {
   "cell_type": "code",
   "execution_count": 4,
   "id": "43746114",
   "metadata": {},
   "outputs": [
    {
     "name": "stdout",
     "output_type": "stream",
     "text": [
      "   ODATEDW  TCODE STATE    ZIP MAILCODE PVASTATE   DOB NOEXCH RECINHSE RECP3  \\\n",
      "0     8901      0    IL  61081                    3712      0                  \n",
      "1     9401      1    CA  91326                    5202      0                  \n",
      "2     9001      1    NC  27017                       0      0                  \n",
      "3     8701      0    CA  95953                    2801      0                  \n",
      "4     8601      0    FL  33176                    2001      0        X     X   \n",
      "\n",
      "   ... TARGET_D HPHONE_D RFA_2R RFA_2F RFA_2A  MDMAUD_R MDMAUD_F MDMAUD_A  \\\n",
      "0  ...      0.0        0      L      4      E         X        X        X   \n",
      "1  ...      0.0        0      L      2      G         X        X        X   \n",
      "2  ...      0.0        1      L      4      E         X        X        X   \n",
      "3  ...      0.0        1      L      4      E         X        X        X   \n",
      "4  ...      0.0        1      L      2      F         X        X        X   \n",
      "\n",
      "  CLUSTER2 GEOCODE2  \n",
      "0     39.0        C  \n",
      "1      1.0        A  \n",
      "2     60.0        C  \n",
      "3     41.0        C  \n",
      "4     26.0        A  \n",
      "\n",
      "[5 rows x 480 columns]\n"
     ]
    }
   ],
   "source": [
    "# Create an empty list to store the columns to be dropped\n",
    "drop_list = []\n",
    "\n",
    "# Check the definitions and exclude variables accordingly\n",
    "if 'OSOURCE' in df.columns:\n",
    "    drop_list.append('OSOURCE')\n",
    "\n",
    "if 'ZIP CODE' in df.columns:\n",
    "    drop_list.append('ZIP CODE')\n",
    "\n",
    "# Drop the columns in the drop_list from the DataFrame\n",
    "df.drop(columns=drop_list, inplace=True)\n",
    "\n",
    "# Verify the updated DataFrame\n",
    "print(df.head())\n"
   ]
  },
  {
   "cell_type": "markdown",
   "id": "4b39172f",
   "metadata": {},
   "source": [
    "## Identify columns that over 85% missing values"
   ]
  },
  {
   "cell_type": "code",
   "execution_count": 5,
   "id": "5cc719c7",
   "metadata": {},
   "outputs": [
    {
     "name": "stdout",
     "output_type": "stream",
     "text": [
      "['NUMCHLD', 'RDATE_3', 'RDATE_4', 'RDATE_5', 'RDATE_6', 'RDATE_7', 'RDATE_10', 'RDATE_13', 'RDATE_15', 'RDATE_17', 'RDATE_20', 'RDATE_21', 'RDATE_23', 'RAMNT_3', 'RAMNT_4', 'RAMNT_5', 'RAMNT_6', 'RAMNT_7', 'RAMNT_10', 'RAMNT_13', 'RAMNT_15', 'RAMNT_17', 'RAMNT_20', 'RAMNT_21', 'RAMNT_23']\n"
     ]
    }
   ],
   "source": [
    "# Calculate the percentage of missing values for each column\n",
    "missing_percentage = (df.isnull().sum() / len(df)) * 100\n",
    "\n",
    "# Filter columns with missing values exceeding 85%\n",
    "columns_with_high_missing = missing_percentage[missing_percentage > 85].index.tolist()\n",
    "\n",
    "# Print the columns with over 85% missing values\n",
    "print(columns_with_high_missing)"
   ]
  },
  {
   "cell_type": "markdown",
   "id": "c8bc6afe",
   "metadata": {},
   "source": [
    "## Remove those columns from the dataframe"
   ]
  },
  {
   "cell_type": "code",
   "execution_count": 6,
   "id": "c7925416",
   "metadata": {},
   "outputs": [
    {
     "name": "stdout",
     "output_type": "stream",
     "text": [
      "   ODATEDW  TCODE STATE    ZIP MAILCODE PVASTATE   DOB NOEXCH RECINHSE RECP3  \\\n",
      "0     8901      0    IL  61081                    3712      0                  \n",
      "1     9401      1    CA  91326                    5202      0                  \n",
      "2     9001      1    NC  27017                       0      0                  \n",
      "3     8701      0    CA  95953                    2801      0                  \n",
      "4     8601      0    FL  33176                    2001      0        X     X   \n",
      "\n",
      "   ... TARGET_D HPHONE_D RFA_2R RFA_2F RFA_2A  MDMAUD_R MDMAUD_F MDMAUD_A  \\\n",
      "0  ...      0.0        0      L      4      E         X        X        X   \n",
      "1  ...      0.0        0      L      2      G         X        X        X   \n",
      "2  ...      0.0        1      L      4      E         X        X        X   \n",
      "3  ...      0.0        1      L      4      E         X        X        X   \n",
      "4  ...      0.0        1      L      2      F         X        X        X   \n",
      "\n",
      "  CLUSTER2 GEOCODE2  \n",
      "0     39.0        C  \n",
      "1      1.0        A  \n",
      "2     60.0        C  \n",
      "3     41.0        C  \n",
      "4     26.0        A  \n",
      "\n",
      "[5 rows x 455 columns]\n"
     ]
    }
   ],
   "source": [
    "# Remove columns with over 85% missing values\n",
    "df.drop(columns=columns_with_high_missing, inplace=True)\n",
    "\n",
    "# Verify the updated DataFrame\n",
    "print(df.head())\n"
   ]
  },
  {
   "cell_type": "markdown",
   "id": "6aef2bbe",
   "metadata": {},
   "source": [
    "## Reduce the number of categories in the column GENDER. The column should only have either \"M\" for males, \"F\" for females, and \"other\" for all the rest\n",
    "\n"
   ]
  },
  {
   "cell_type": "code",
   "execution_count": 7,
   "id": "66d0f0d3",
   "metadata": {},
   "outputs": [
    {
     "name": "stdout",
     "output_type": "stream",
     "text": [
      "F        51277\n",
      "M        39094\n",
      "other     5041\n",
      "Name: GENDER, dtype: int64\n"
     ]
    }
   ],
   "source": [
    "# Replace null values in the 'GENDER' column with 'F'\n",
    "df['GENDER'] = df['GENDER'].fillna('F')\n",
    "\n",
    "# Map the categories to 'M', 'F', and 'other'\n",
    "df['GENDER'] = df['GENDER'].map({'M': 'M', 'F': 'F'}).fillna('other')\n",
    "\n",
    "# Print the updated value counts\n",
    "print(df['GENDER'].value_counts())"
   ]
  },
  {
   "cell_type": "code",
   "execution_count": null,
   "id": "cca568f4",
   "metadata": {},
   "outputs": [],
   "source": []
  }
 ],
 "metadata": {
  "kernelspec": {
   "display_name": "Python 3 (ipykernel)",
   "language": "python",
   "name": "python3"
  },
  "language_info": {
   "codemirror_mode": {
    "name": "ipython",
    "version": 3
   },
   "file_extension": ".py",
   "mimetype": "text/x-python",
   "name": "python",
   "nbconvert_exporter": "python",
   "pygments_lexer": "ipython3",
   "version": "3.9.13"
  }
 },
 "nbformat": 4,
 "nbformat_minor": 5
}
